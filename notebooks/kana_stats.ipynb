{
 "cells": [
  {
   "cell_type": "code",
   "execution_count": null,
   "metadata": {},
   "outputs": [],
   "source": [
    "from flask import Flask\n",
    "from flask_sqlalchemy import SQLAlchemy\n",
    "\n",
    "app = Flask(__name__)\n",
    "app.config.from_object('otsukare.config.BaseConfig')\n",
    "\n",
    "db = SQLAlchemy(app)"
   ]
  },
  {
   "cell_type": "code",
   "execution_count": null,
   "metadata": {
    "collapsed": true
   },
   "outputs": [],
   "source": [
    "from otsukare.models import *"
   ]
  },
  {
   "cell_type": "code",
   "execution_count": null,
   "metadata": {
    "collapsed": true
   },
   "outputs": [],
   "source": [
    "session.query(\n",
    "    Expense.date,\n",
    "    func.sum(Expense.value).label('total')\n",
    ").join(Expense.cost_center\n",
    ").filter(CostCenter.id.in_([2, 3])\n",
    ").group_by(Expense.date\n",
    ").all()"
   ]
  },
  {
   "cell_type": "code",
   "execution_count": null,
   "metadata": {},
   "outputs": [],
   "source": [
    "from otsukare.analysis import * "
   ]
  },
  {
   "cell_type": "code",
   "execution_count": null,
   "metadata": {},
   "outputs": [],
   "source": [
    "kana_known = pd.read_sql('SELECT * from \"Kana_Known\"', db.engine.connect().connection)[[\"user_id\",\"tokens\"]].groupby(\"user_id\").sum()\n",
    "kana_known.columns = [\"Kana\"]\n",
    "words_known = pd.read_sql('SELECT * from \"Words_Known\"', db.engine.connect().connection)[[\"user_id\",\"tokens\"]].groupby(\"user_id\").sum()\n",
    "words_known.columns = [\"Words\"]\n",
    "sent_known = pd.read_sql('SELECT * from \"Needs_Known\"', db.engine.connect().connection)[[\"user_id\",\"tokens\"]].groupby(\"user_id\").sum()\n",
    "sent_known.columns = [\"Sentences\"]\n",
    "\n",
    "usernames = pd.read_sql('SELECT * from \"Users\"', db.engine.connect().connection).set_index(\"id\")[[\"username\"]]\n",
    "usernames.columns = [\"Username\"]\n",
    "\n",
    "usernames.join(kana_known).join(words_known).join(sent_known).fillna(0)"
   ]
  },
  {
   "cell_type": "code",
   "execution_count": null,
   "metadata": {},
   "outputs": [],
   "source": []
  },
  {
   "cell_type": "code",
   "execution_count": null,
   "metadata": {},
   "outputs": [],
   "source": []
  },
  {
   "cell_type": "code",
   "execution_count": null,
   "metadata": {
    "collapsed": true
   },
   "outputs": [],
   "source": []
  },
  {
   "cell_type": "code",
   "execution_count": null,
   "metadata": {
    "collapsed": true
   },
   "outputs": [],
   "source": []
  },
  {
   "cell_type": "code",
   "execution_count": null,
   "metadata": {
    "collapsed": true
   },
   "outputs": [],
   "source": []
  },
  {
   "cell_type": "code",
   "execution_count": null,
   "metadata": {
    "collapsed": true
   },
   "outputs": [],
   "source": []
  },
  {
   "cell_type": "code",
   "execution_count": null,
   "metadata": {
    "collapsed": true
   },
   "outputs": [],
   "source": [
    "import pandas as pd"
   ]
  },
  {
   "cell_type": "code",
   "execution_count": null,
   "metadata": {
    "collapsed": true
   },
   "outputs": [],
   "source": [
    "kana_known = pd.read_sql(Kana_Known.query.filter_by(user_id=1).statement, Kana_Known.query.session.bind)"
   ]
  },
  {
   "cell_type": "code",
   "execution_count": null,
   "metadata": {
    "collapsed": true
   },
   "outputs": [],
   "source": [
    "kana = pd.read_sql(Kana.query.statement, Kana.query.session.bind)"
   ]
  },
  {
   "cell_type": "code",
   "execution_count": null,
   "metadata": {
    "collapsed": true
   },
   "outputs": [],
   "source": [
    "kana_stats = pd.merge(kana_known, kana, how='inner', left_on=\"kana_id\", right_on=\"id\")"
   ]
  },
  {
   "cell_type": "code",
   "execution_count": null,
   "metadata": {
    "collapsed": true
   },
   "outputs": [],
   "source": [
    "kana_stats = kana_stats.set_index(\"kana_id\")"
   ]
  },
  {
   "cell_type": "code",
   "execution_count": null,
   "metadata": {
    "collapsed": true
   },
   "outputs": [],
   "source": [
    "task_stats = pd.read_sql(Tasks.query.filter(Tasks.user_id==1, \n",
    "                                      Tasks.task_id>=1, Tasks.task_id<=5, \n",
    "                                      Tasks.status!=-1).statement, Kana.query.session.bind)"
   ]
  },
  {
   "cell_type": "code",
   "execution_count": null,
   "metadata": {
    "collapsed": true
   },
   "outputs": [],
   "source": [
    "incorrect = task_stats[task_stats[\"status\"]==0].groupby(\"answer\").count()[\"id\"]\n",
    "incorrect.index = incorrect.index.astype(int)\n",
    "incorrect.name = \"incorrect\"\n",
    "correct = task_stats[task_stats[\"status\"]==1].groupby(\"answer\").count()[\"id\"]\n",
    "correct.index = correct.index.astype(int)\n",
    "correct.name = \"correct\""
   ]
  },
  {
   "cell_type": "code",
   "execution_count": null,
   "metadata": {},
   "outputs": [],
   "source": [
    "correct"
   ]
  },
  {
   "cell_type": "code",
   "execution_count": null,
   "metadata": {
    "collapsed": true
   },
   "outputs": [],
   "source": [
    "kana_stats = kana_stats.join(correct).join(incorrect)"
   ]
  },
  {
   "cell_type": "code",
   "execution_count": null,
   "metadata": {},
   "outputs": [],
   "source": [
    "kana_stats.columns"
   ]
  },
  {
   "cell_type": "code",
   "execution_count": null,
   "metadata": {
    "collapsed": true
   },
   "outputs": [],
   "source": [
    "kana_stats = kana_stats[[\"kana\", \"romanji\", \"correct\", \"incorrect\"]]"
   ]
  },
  {
   "cell_type": "code",
   "execution_count": null,
   "metadata": {},
   "outputs": [],
   "source": [
    "kana_stats"
   ]
  },
  {
   "cell_type": "code",
   "execution_count": null,
   "metadata": {
    "collapsed": true
   },
   "outputs": [],
   "source": [
    "test = task_stats[(task_stats[\"status\"]==0) & (task_stats[\"response\"]!=\"-1\")]"
   ]
  },
  {
   "cell_type": "code",
   "execution_count": null,
   "metadata": {
    "collapsed": true
   },
   "outputs": [],
   "source": [
    "most_incorrect_x = pd.crosstab(test[\"answer\"],test[\"response\"])\n",
    "most_incorrect = most_incorrect_x.idxmax(axis=1)\n"
   ]
  },
  {
   "cell_type": "code",
   "execution_count": null,
   "metadata": {
    "collapsed": true
   },
   "outputs": [],
   "source": [
    "most_incorrect.index = most_incorrect.index.astype(int)\n"
   ]
  },
  {
   "cell_type": "code",
   "execution_count": null,
   "metadata": {
    "collapsed": true
   },
   "outputs": [],
   "source": [
    "most_incorrect = kana_stats.loc[most_incorrect.index,\"kana\"]\n",
    "most_incorrect.name = \"most incorrect\""
   ]
  },
  {
   "cell_type": "code",
   "execution_count": null,
   "metadata": {
    "collapsed": true
   },
   "outputs": [],
   "source": [
    "kana_stats = kana_stats.join(most_incorrect)"
   ]
  },
  {
   "cell_type": "code",
   "execution_count": null,
   "metadata": {},
   "outputs": [],
   "source": [
    "kana_stats"
   ]
  },
  {
   "cell_type": "code",
   "execution_count": null,
   "metadata": {
    "collapsed": true
   },
   "outputs": [],
   "source": []
  }
 ],
 "metadata": {
  "kernelspec": {
   "display_name": "Python 3",
   "language": "python",
   "name": "python3"
  },
  "language_info": {
   "codemirror_mode": {
    "name": "ipython",
    "version": 3
   },
   "file_extension": ".py",
   "mimetype": "text/x-python",
   "name": "python",
   "nbconvert_exporter": "python",
   "pygments_lexer": "ipython3",
   "version": "3.7.3"
  }
 },
 "nbformat": 4,
 "nbformat_minor": 2
}
